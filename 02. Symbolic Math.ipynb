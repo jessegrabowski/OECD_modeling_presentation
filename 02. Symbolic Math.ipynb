{
 "cells": [
  {
   "cell_type": "code",
   "execution_count": 1,
   "id": "965e0291",
   "metadata": {
    "slideshow": {
     "slide_type": "skip"
    }
   },
   "outputs": [
    {
     "data": {
      "text/plain": [
       "{'width': '90%', 'height': '90%', 'scroll': True}"
      ]
     },
     "execution_count": 1,
     "metadata": {},
     "output_type": "execute_result"
    }
   ],
   "source": [
    "from notebook.services.config import ConfigManager\n",
    "cm = ConfigManager()\n",
    "cm.update('livereveal', {\n",
    "        'width': '90%',\n",
    "        'height': '90%',\n",
    "        'scroll': True,\n",
    "})"
   ]
  },
  {
   "cell_type": "markdown",
   "id": "30b594e2",
   "metadata": {
    "slideshow": {
     "slide_type": "slide"
    }
   },
   "source": [
    "# Faster Development\n",
    "\n",
    "Code execution speed isn't the only place were modelers lose time. We can also speed up our development cycle by using symbolic math libraries like `sympy`. These offer several advantages:\n",
    "\n",
    "1. Directly program a model as mathematical expressions\n",
    "2. Use solvers and symbolic differentiation to automate tedious algebra and reduce mistakes\n",
    "3. Compile mathematical expressions directly to python functions."
   ]
  },
  {
   "cell_type": "markdown",
   "id": "717967d2",
   "metadata": {
    "slideshow": {
     "slide_type": "slide"
    }
   },
   "source": [
    "# Using Sympy\n",
    "\n",
    "Consider the well-known IS-TR model of the macroeconomy:\n",
    "\n",
    "$$\\begin{align}\n",
    "Y &= C + I + G \\\\\n",
    "C &= c_0 + c_1 (1 - \\tau) Y \\\\\n",
    "I &= i_0 + i_1 Y + i_2 i \\\\\n",
    "G &= \\bar{G} \\\\\n",
    "\\end{align}$$\n",
    "\n",
    "This is a fully linear system of equations, and can be trivially solved for a reduced form in $Y$. Instead of doing it by hand, we can use `sympy` to automate the calculations:"
   ]
  },
  {
   "cell_type": "code",
   "execution_count": 8,
   "id": "f0683034",
   "metadata": {
    "slideshow": {
     "slide_type": "slide"
    }
   },
   "outputs": [],
   "source": [
    "import sympy as sp\n",
    "Y, i, C, I, G = sp.symbols('Y i C I G')\n",
    "c0, c1, i0, i1, i2, G_bar, tau = sp.symbols('c_0 c_1 i_0 i_1 i_2 \\\\bar{G} \\\\tau')\n",
    "\n",
    "eq1 = sp.Eq(Y, C + I + G)\n",
    "eq2 = sp.Eq(C, c0 + c1 * (1 - tau) * Y)\n",
    "eq3 = sp.Eq(I, i0 + i1 * Y + i2 * i)\n",
    "eq4 = sp.Eq(G, G_bar)\n",
    "\n",
    "system = [eq1, eq2, eq3, eq4]"
   ]
  },
  {
   "cell_type": "code",
   "execution_count": 9,
   "id": "ce5b4fea",
   "metadata": {
    "slideshow": {
     "slide_type": "subslide"
    }
   },
   "outputs": [
    {
     "data": {
      "text/latex": [
       "$\\displaystyle Y = C + G + I$"
      ],
      "text/plain": [
       "Eq(Y, C + G + I)"
      ]
     },
     "metadata": {},
     "output_type": "display_data"
    },
    {
     "data": {
      "text/latex": [
       "$\\displaystyle C = Y c_{1} \\cdot \\left(1 - \\tau\\right) + c_{0}$"
      ],
      "text/plain": [
       "Eq(C, Y*c_1*(1 - \\tau) + c_0)"
      ]
     },
     "metadata": {},
     "output_type": "display_data"
    },
    {
     "data": {
      "text/latex": [
       "$\\displaystyle I = Y i_{1} + i i_{2} + i_{0}$"
      ],
      "text/plain": [
       "Eq(I, Y*i_1 + i*i_2 + i_0)"
      ]
     },
     "metadata": {},
     "output_type": "display_data"
    },
    {
     "data": {
      "text/latex": [
       "$\\displaystyle G = \\bar{G}$"
      ],
      "text/plain": [
       "Eq(G, \\bar{G})"
      ]
     },
     "metadata": {},
     "output_type": "display_data"
    }
   ],
   "source": [
    "for eq in system:\n",
    "    display(eq)"
   ]
  },
  {
   "cell_type": "markdown",
   "id": "d9478707",
   "metadata": {
    "slideshow": {
     "slide_type": "subslide"
    }
   },
   "source": [
    "Once we have the algebraic system, we can ask sympy to solve it for us. In this case, because the system is all linear, it will be very effective. We pass the system of equations, along with a list of variables to be solved for. In this case, we solve for $Y$, $C$, $I$, $G$."
   ]
  },
  {
   "cell_type": "code",
   "execution_count": 15,
   "id": "43e7dc6a",
   "metadata": {
    "slideshow": {
     "slide_type": "subslide"
    }
   },
   "outputs": [
    {
     "data": {
      "text/latex": [
       "$\\displaystyle C = \\frac{- \\bar{G} \\tau c_{1} + \\bar{G} c_{1} - \\tau c_{1} i i_{2} - \\tau c_{1} i_{0} - c_{0} i_{1} + c_{0} + c_{1} i i_{2} + c_{1} i_{0}}{\\tau c_{1} - c_{1} - i_{1} + 1}$"
      ],
      "text/plain": [
       "Eq(C, (-\\bar{G}*\\tau*c_1 + \\bar{G}*c_1 - \\tau*c_1*i*i_2 - \\tau*c_1*i_0 - c_0*i_1 + c_0 + c_1*i*i_2 + c_1*i_0)/(\\tau*c_1 - c_1 - i_1 + 1))"
      ]
     },
     "metadata": {},
     "output_type": "display_data"
    },
    {
     "data": {
      "text/latex": [
       "$\\displaystyle G = \\bar{G}$"
      ],
      "text/plain": [
       "Eq(G, \\bar{G})"
      ]
     },
     "metadata": {},
     "output_type": "display_data"
    },
    {
     "data": {
      "text/latex": [
       "$\\displaystyle I = \\frac{\\bar{G} i_{1} + \\tau c_{1} i i_{2} + \\tau c_{1} i_{0} + c_{0} i_{1} - c_{1} i i_{2} - c_{1} i_{0} + i i_{2} + i_{0}}{\\tau c_{1} - c_{1} - i_{1} + 1}$"
      ],
      "text/plain": [
       "Eq(I, (\\bar{G}*i_1 + \\tau*c_1*i*i_2 + \\tau*c_1*i_0 + c_0*i_1 - c_1*i*i_2 - c_1*i_0 + i*i_2 + i_0)/(\\tau*c_1 - c_1 - i_1 + 1))"
      ]
     },
     "metadata": {},
     "output_type": "display_data"
    },
    {
     "data": {
      "text/latex": [
       "$\\displaystyle Y = \\frac{\\bar{G} + c_{0} + i i_{2} + i_{0}}{\\tau c_{1} - c_{1} - i_{1} + 1}$"
      ],
      "text/plain": [
       "Eq(Y, (\\bar{G} + c_0 + i*i_2 + i_0)/(\\tau*c_1 - c_1 - i_1 + 1))"
      ]
     },
     "metadata": {},
     "output_type": "display_data"
    }
   ],
   "source": [
    "# sp.solve returns a dictionary\n",
    "solutions = sp.solve(system, [Y, C, I, G])\n",
    "\n",
    "for var, eq in solutions.items():\n",
    "    display(sp.Eq(var, eq))"
   ]
  },
  {
   "cell_type": "markdown",
   "id": "0ef7a695",
   "metadata": {
    "slideshow": {
     "slide_type": "subslide"
    }
   },
   "source": [
    "Solutions produced by sympy are not always the most beautiful. You can ask for them to be cleaned up by using the `.collect` method"
   ]
  },
  {
   "cell_type": "code",
   "execution_count": 23,
   "id": "39501d1a",
   "metadata": {
    "slideshow": {
     "slide_type": "subslide"
    }
   },
   "outputs": [
    {
     "data": {
      "text/latex": [
       "$\\displaystyle \\frac{\\bar{G} + c_{0} + i i_{2} + i_{0}}{c_{1} \\left(\\tau - 1\\right) - i_{1} + 1}$"
      ],
      "text/plain": [
       "(\\bar{G} + c_0 + i*i_2 + i_0)/(c_1*(\\tau - 1) - i_1 + 1)"
      ]
     },
     "execution_count": 23,
     "metadata": {},
     "output_type": "execute_result"
    }
   ],
   "source": [
    "Y_solved = solutions[Y]\n",
    "Y_solved.collect(c1)"
   ]
  },
  {
   "cell_type": "markdown",
   "id": "92a307c6",
   "metadata": {
    "slideshow": {
     "slide_type": "subslide"
    }
   },
   "source": [
    "The solution for $Y$ is the IS curve. Together with a Taylor Rule, we can solve for an IS-TR equilibrium. A taylor rule is given by:\n",
    "\n",
    "$$i = \\bar i + \\alpha (\\pi - \\bar \\pi) + \\beta \\left ( \\frac{Y - \\bar Y}{\\bar Y} \\right )$$"
   ]
  },
  {
   "cell_type": "code",
   "execution_count": 39,
   "id": "86910e95",
   "metadata": {
    "slideshow": {
     "slide_type": "subslide"
    }
   },
   "outputs": [
    {
     "data": {
      "text/latex": [
       "$\\displaystyle i = \\bar{i} + \\alpha \\left(- \\bar{\\pi} + \\pi\\right) + \\frac{\\beta \\left(Y - \\bar{Y}\\right)}{\\bar{Y}}$"
      ],
      "text/plain": [
       "Eq(i, \\bar{i} + alpha*(-\\bar{\\pi} + pi) + beta*(Y - \\bar{Y})/\\bar{Y})"
      ]
     },
     "metadata": {},
     "output_type": "display_data"
    },
    {
     "data": {
      "text/latex": [
       "$\\displaystyle Y = \\frac{\\bar{G} + c_{0} + i i_{2} + i_{0}}{\\tau c_{1} - c_{1} - i_{1} + 1}$"
      ],
      "text/plain": [
       "Eq(Y, (\\bar{G} + c_0 + i*i_2 + i_0)/(\\tau*c_1 - c_1 - i_1 + 1))"
      ]
     },
     "metadata": {},
     "output_type": "display_data"
    }
   ],
   "source": [
    "alpha, beta, pi_bar, Y_bar, i_bar = sp.symbols('alpha beta \\\\bar{\\pi} \\\\bar{Y} \\\\bar{i}')\n",
    "pi = sp.Symbol('pi')\n",
    "\n",
    "tr_curve = sp.Eq(i, i_bar + alpha * (pi - pi_bar) + beta * ((Y - Y_bar) / Y_bar))\n",
    "is_curve = sp.Eq(Y, Y_solved)\n",
    "\n",
    "display(tr_curve)\n",
    "display(is_curve)"
   ]
  },
  {
   "cell_type": "markdown",
   "id": "06bf5ff8",
   "metadata": {
    "slideshow": {
     "slide_type": "subslide"
    }
   },
   "source": [
    "The IS-TR equilibrium can once again be solved for by using `sp.solve`. Again, these equations are not complicated to solve by hand, but they are quite tedious and error prone. Using a computer algebra system can save significant work!"
   ]
  },
  {
   "cell_type": "code",
   "execution_count": 40,
   "id": "e9686024",
   "metadata": {
    "slideshow": {
     "slide_type": "subslide"
    }
   },
   "outputs": [
    {
     "data": {
      "text/latex": [
       "$\\displaystyle Y = \\frac{\\bar{Y} \\left(\\bar{G} - \\bar{\\pi} \\alpha i_{2} + \\bar{i} i_{2} + \\alpha i_{2} \\pi - \\beta i_{2} + c_{0} + i_{0}\\right)}{\\bar{Y} \\left(\\tau c_{1} - c_{1} - i_{1} + 1\\right) - \\beta i_{2}}$"
      ],
      "text/plain": [
       "Eq(Y, \\bar{Y}*(\\bar{G} - \\bar{\\pi}*alpha*i_2 + \\bar{i}*i_2 + alpha*i_2*pi - beta*i_2 + c_0 + i_0)/(\\bar{Y}*(\\tau*c_1 - c_1 - i_1 + 1) - beta*i_2))"
      ]
     },
     "metadata": {},
     "output_type": "display_data"
    },
    {
     "data": {
      "text/latex": [
       "$\\displaystyle i = \\frac{\\bar{G} \\beta + \\bar{Y} \\left(- \\bar{\\pi} \\tau \\alpha c_{1} + \\bar{\\pi} \\alpha c_{1} + \\bar{\\pi} \\alpha i_{1} - \\bar{\\pi} \\alpha + \\bar{i} \\tau c_{1} - \\bar{i} c_{1} - \\bar{i} i_{1} + \\bar{i} + \\tau \\alpha c_{1} \\pi - \\tau \\beta c_{1} - \\alpha c_{1} \\pi - \\alpha i_{1} \\pi + \\alpha \\pi + \\beta c_{1} + \\beta i_{1} - \\beta\\right) + \\beta c_{0} + \\beta i_{0}}{\\bar{Y} \\left(\\tau c_{1} - c_{1} - i_{1} + 1\\right) - \\beta i_{2}}$"
      ],
      "text/plain": [
       "Eq(i, (\\bar{G}*beta + \\bar{Y}*(-\\bar{\\pi}*\\tau*alpha*c_1 + \\bar{\\pi}*alpha*c_1 + \\bar{\\pi}*alpha*i_1 - \\bar{\\pi}*alpha + \\bar{i}*\\tau*c_1 - \\bar{i}*c_1 - \\bar{i}*i_1 + \\bar{i} + \\tau*alpha*c_1*pi - \\tau*beta*c_1 - alpha*c_1*pi - alpha*i_1*pi + alpha*pi + beta*c_1 + beta*i_1 - beta) + beta*c_0 + beta*i_0)/(\\bar{Y}*(\\tau*c_1 - c_1 - i_1 + 1) - beta*i_2))"
      ]
     },
     "metadata": {},
     "output_type": "display_data"
    }
   ],
   "source": [
    "is_tr_solutions = sp.solve([is_curve, tr_curve], [Y, i])\n",
    "for var, eq in is_tr_solutions.items():\n",
    "    display(sp.Eq(var, eq.collect(Y_bar)))"
   ]
  },
  {
   "cell_type": "markdown",
   "id": "a36bea7f",
   "metadata": {
    "slideshow": {
     "slide_type": "subslide"
    }
   },
   "source": [
    "These expressions are quite horrible -- we can clean them up significantly with `.collect`, or leave them be"
   ]
  },
  {
   "cell_type": "code",
   "execution_count": 44,
   "id": "c7ba016c",
   "metadata": {
    "slideshow": {
     "slide_type": "subslide"
    }
   },
   "outputs": [
    {
     "data": {
      "text/latex": [
       "$\\displaystyle \\frac{\\bar{Y} \\left(\\bar{G} + c_{0} + i_{0} + i_{2} \\left(\\bar{i} + \\alpha \\left(- \\bar{\\pi} + \\pi\\right) - \\beta\\right)\\right)}{\\bar{Y} \\left(c_{1} \\left(\\tau - 1\\right) - i_{1} + 1\\right) - \\beta i_{2}}$"
      ],
      "text/plain": [
       "\\bar{Y}*(\\bar{G} + c_0 + i_0 + i_2*(\\bar{i} + alpha*(-\\bar{\\pi} + pi) - beta))/(\\bar{Y}*(c_1*(\\tau - 1) - i_1 + 1) - beta*i_2)"
      ]
     },
     "execution_count": 44,
     "metadata": {},
     "output_type": "execute_result"
    }
   ],
   "source": [
    "is_tr_solutions[Y].collect(Y_bar).collect(c1).collect(i2).collect(alpha)"
   ]
  },
  {
   "cell_type": "markdown",
   "id": "98c65272",
   "metadata": {
    "slideshow": {
     "slide_type": "slide"
    }
   },
   "source": [
    "## Translating to Python Code with `sp.lambdify`\n",
    "\n",
    "Having symbolic solutions is nice, but frequently we only solve models in order to then turn around and run simulations. To do this, we need to convert the model to python code. This might involve manually creating functions. Sympy can also help with this, using the `sp.lambdify` function."
   ]
  },
  {
   "cell_type": "code",
   "execution_count": 54,
   "id": "6fa88165",
   "metadata": {
    "slideshow": {
     "slide_type": "subslide"
    }
   },
   "outputs": [],
   "source": [
    "f_Y_solution = sp.lambdify([c0, c1, i0, i1, i2, i_bar, Y_bar, G_bar, pi_bar, alpha, beta, pi, tau], \n",
    "                           is_tr_solutions[Y])\n",
    "f_i_solution = sp.lambdify([c0, c1, i0, i1, i2, i_bar, Y_bar, G_bar, pi_bar, alpha, beta, pi, tau], \n",
    "                           is_tr_solutions[i])"
   ]
  },
  {
   "cell_type": "code",
   "execution_count": 129,
   "id": "53099c83",
   "metadata": {
    "slideshow": {
     "slide_type": "subslide"
    }
   },
   "outputs": [
    {
     "name": "stdout",
     "output_type": "stream",
     "text": [
      "Equlibrium Y: 9.55\n",
      "Equlibrium i: 0.34\n"
     ]
    }
   ],
   "source": [
    "param_dict = {\n",
    "    'c_0': 1,        # base consumption\n",
    "    'c_1': 0.5,      # mpc\n",
    "    'i_0': 1,        # base investmnet\n",
    "    'i_1': 0.25,     # mpi -- \"animal spirits\"\n",
    "    'i_2': -0.12,    # interest rate sensitivity\n",
    "    'i_bar': 0.05,  # natural interest rate\n",
    "    'Y_bar': 1,     # natural output\n",
    "    'G_bar': 1,     # exogenous government spending\n",
    "    'pi_bar':0.03,  # inflation target\n",
    "    'alpha': 1.5,   # central bank inflation reaction strength\n",
    "    'beta': 0.025,  # central bank output gap reaction strength\n",
    "    'pi': 0.08,     # inflation\n",
    "    'tau': 0.12     # tax rate\n",
    "}\n",
    "\n",
    "print(f'Equlibrium Y: {f_Y_solution(*param_dict.values()):0.2f}')\n",
    "print(f'Equlibrium i: {f_i_solution(*param_dict.values()):0.2f}')"
   ]
  },
  {
   "cell_type": "markdown",
   "id": "4d872b8b",
   "metadata": {
    "slideshow": {
     "slide_type": "subslide"
    }
   },
   "source": [
    "## Plotting\n",
    "\n",
    "We can also lambdify the curve functions to make a nice plot. To do this, we have to get both equations into the form i = f(Y). The TR curve already is, but we can use `sp.solve` to put the IS curve into the correct form."
   ]
  },
  {
   "cell_type": "code",
   "execution_count": 130,
   "id": "e88e1441",
   "metadata": {
    "slideshow": {
     "slide_type": "subslide"
    }
   },
   "outputs": [
    {
     "data": {
      "text/latex": [
       "$\\displaystyle \\frac{Y \\tau c_{1} - Y c_{1} - Y i_{1} + Y - \\bar{G} - c_{0} - i_{0}}{i_{2}}$"
      ],
      "text/plain": [
       "(Y*\\tau*c_1 - Y*c_1 - Y*i_1 + Y - \\bar{G} - c_0 - i_0)/i_2"
      ]
     },
     "execution_count": 130,
     "metadata": {},
     "output_type": "execute_result"
    }
   ],
   "source": [
    "is_curve_inv = sp.solve(is_curve, i)[0]\n",
    "is_curve_inv"
   ]
  },
  {
   "cell_type": "code",
   "execution_count": 131,
   "id": "13f0b4b1",
   "metadata": {
    "scrolled": true,
    "slideshow": {
     "slide_type": "subslide"
    }
   },
   "outputs": [],
   "source": [
    "is_inputs = ['c_0', 'c_1', 'i_0', 'i_1', 'i_2', 'G_bar', 'tau']\n",
    "tr_inputs = ['i_bar', 'pi_bar', 'Y_bar', 'alpha', 'beta', 'pi']\n",
    "\n",
    "f_is = sp.lambdify([Y, c0, c1, i0, i1, i2, G_bar, tau], is_curve_inv)\n",
    "f_tr = sp.lambdify([Y, i_bar, pi_bar, Y_bar, alpha, beta, pi], tr_curve.rhs)"
   ]
  },
  {
   "cell_type": "code",
   "execution_count": 132,
   "id": "e8cd047c",
   "metadata": {
    "slideshow": {
     "slide_type": "subslide"
    }
   },
   "outputs": [
    {
     "data": {
      "image/png": "[encoded data removed]",
      "text/plain": [
       "<Figure size 616x616 with 1 Axes>"
      ]
     },
     "metadata": {},
     "output_type": "display_data"
    }
   ],
   "source": [
    "import matplotlib.pyplot as plt\n",
    "import numpy as np\n",
    "\n",
    "fig, ax = plt.subplots(figsize=(8, 8), dpi=77)\n",
    "\n",
    "Y_grid = np.linspace(9, 12, 100)\n",
    "ax.plot(Y_grid, f_is(Y_grid, *[param_dict.get(x) for x in is_inputs]))\n",
    "ax.plot(Y_grid, f_tr(Y_grid, *[param_dict.get(x) for x in tr_inputs]))\n",
    "ax.scatter(f_Y_solution(*param_dict.values()), f_i_solution(*param_dict.values()), \n",
    "           marker='*', s=100, zorder=10)\n",
    "ax.set(title='IS-TR Equlibrium', xlabel='Output', ylabel='Interest')\n",
    "plt.show()"
   ]
  },
  {
   "cell_type": "code",
   "execution_count": 133,
   "id": "781a3f0f",
   "metadata": {
    "slideshow": {
     "slide_type": "subslide"
    }
   },
   "outputs": [
    {
     "data": {
      "image/png": "[encoded data removed]",
      "text/plain": [
       "<Figure size 616x616 with 1 Axes>"
      ]
     },
     "metadata": {},
     "output_type": "display_data"
    }
   ],
   "source": [
    "import matplotlib.pyplot as plt\n",
    "import numpy as np\n",
    "\n",
    "fig, ax = plt.subplots(figsize=(8, 8), dpi=77)\n",
    "\n",
    "spending_shock = param_dict.copy()\n",
    "spending_shock['G_bar'] += 2\n",
    "\n",
    "Y_grid = np.linspace(9, 18, 100)\n",
    "\n",
    "ax.plot(Y_grid, f_is(Y_grid, *[param_dict.get(x) for x in is_inputs]))\n",
    "ax.plot(Y_grid, f_tr(Y_grid, *[param_dict.get(x) for x in tr_inputs]))\n",
    "\n",
    "ax.scatter(f_Y_solution(*param_dict.values()), f_i_solution(*param_dict.values()), \n",
    "           marker='*', s=100, zorder=10)\n",
    "\n",
    "ax.plot(Y_grid, f_is(Y_grid, *[spending_shock.get(x) for x in is_inputs]), ls='--')\n",
    "\n",
    "ax.scatter(f_Y_solution(*spending_shock.values()), f_i_solution(*spending_shock.values()), \n",
    "           marker='*', s=100, zorder=10)\n",
    "\n",
    "ax.set(title='IS-TR Equlibrium', xlabel='Output', ylabel='Interest')\n",
    "plt.show()"
   ]
  },
  {
   "cell_type": "markdown",
   "id": "a43d6f78",
   "metadata": {
    "slideshow": {
     "slide_type": "slide"
    }
   },
   "source": [
    "# Comparative Statics with `.diff`\n",
    "\n",
    "Finally, we can compute symbolic derivatives using `.diff`. In the IS-TR example, this is useful for doing comparative statics. We can, for instance, compute the effect of changes in the central bank's inflation target, $\\bar{\\pi}$, on equilibrium output.\n",
    "\n",
    "We can be sure that this is positive (as expected) because $\\frac{1}{1 - (1 - \\tau)c_1 - i_1}$ is the fiscal multiplier, and must be strictly positive. Notice that sympy puts that minus sign out front -- you need to mentally factor it back in."
   ]
  },
  {
   "cell_type": "code",
   "execution_count": 138,
   "id": "5a6ef504",
   "metadata": {
    "slideshow": {
     "slide_type": "fragment"
    }
   },
   "outputs": [
    {
     "data": {
      "text/latex": [
       "$\\displaystyle - \\frac{\\bar{Y} \\alpha i_{2}}{\\bar{Y} \\left(c_{1} \\left(\\tau - 1\\right) - i_{1} + 1\\right) - \\beta i_{2}}$"
      ],
      "text/plain": [
       "-\\bar{Y}*alpha*i_2/(\\bar{Y}*(c_1*(\\tau - 1) - i_1 + 1) - beta*i_2)"
      ]
     },
     "execution_count": 138,
     "metadata": {},
     "output_type": "execute_result"
    }
   ],
   "source": [
    "is_tr_solutions[Y].diff(pi_bar).collect(Y_bar).collect(c1)"
   ]
  },
  {
   "cell_type": "markdown",
   "id": "6ffc5057",
   "metadata": {
    "slideshow": {
     "slide_type": "slide"
    }
   },
   "source": [
    "We will see in the last section that symbolic differentiation is just the tip of the iceberg when it comes to what can be done with automatic differentiation in modern Python packages."
   ]
  }
 ],
 "metadata": {
  "celltoolbar": "Slideshow",
  "kernelspec": {
   "display_name": "Python 3 (ipykernel)",
   "language": "python",
   "name": "python3"
  },
  "language_info": {
   "codemirror_mode": {
    "name": "ipython",
    "version": 3
   },
   "file_extension": ".py",
   "mimetype": "text/x-python",
   "name": "python",
   "nbconvert_exporter": "python",
   "pygments_lexer": "ipython3",
   "version": "3.11.9"
  },
  "toc": {
   "base_numbering": 1,
   "nav_menu": {},
   "number_sections": true,
   "sideBar": true,
   "skip_h1_title": false,
   "title_cell": "Table of Contents",
   "title_sidebar": "Contents",
   "toc_cell": false,
   "toc_position": {},
   "toc_section_display": true,
   "toc_window_display": false
  }
 },
 "nbformat": 4,
 "nbformat_minor": 5
}
